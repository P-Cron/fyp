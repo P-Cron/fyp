{
 "cells": [
  {
   "cell_type": "code",
   "execution_count": null,
   "source": [
    "from dynRespCompare import *"
   ],
   "outputs": [],
   "metadata": {}
  },
  {
   "cell_type": "markdown",
   "source": [
    "## EGR Percent"
   ],
   "metadata": {}
  },
  {
   "cell_type": "code",
   "execution_count": null,
   "source": [
    "printDescribes([egrPercent, rpm], dfList)\n"
   ],
   "outputs": [],
   "metadata": {}
  },
  {
   "cell_type": "markdown",
   "source": [
    "egrPercent seem ideal, has a good median value that is mostly consistent"
   ],
   "metadata": {}
  },
  {
   "cell_type": "markdown",
   "source": [
    "## Turbo Boost"
   ],
   "metadata": {}
  },
  {
   "cell_type": "code",
   "execution_count": null,
   "source": [
    "printDescribes([boost, rpm, coolantTemp], dfList)\n"
   ],
   "outputs": [],
   "metadata": {}
  },
  {
   "cell_type": "markdown",
   "source": [
    "Not reliable, depending on the coolant temperature at the start. Is reliable when coolant temperature starts low, but when the weather is warm this is if no use"
   ],
   "metadata": {}
  },
  {
   "cell_type": "code",
   "execution_count": 17,
   "source": [
    "printDescribes([coolantTemp, boost], dfList0Rpms)"
   ],
   "outputs": [
    {
     "output_type": "stream",
     "name": "stdout",
     "text": [
      "1\n",
      "       Engine Coolant Temperature(°C)  Turbo Boost & Vacuum Gauge(psi)\n",
      "count                             6.0                     6.000000e+00\n",
      "mean                             34.0                     9.384918e-02\n",
      "std                               0.0                     1.520235e-17\n",
      "min                              34.0                     9.384918e-02\n",
      "25%                              34.0                     9.384918e-02\n",
      "50%                              34.0                     9.384918e-02\n",
      "75%                              34.0                     9.384918e-02\n",
      "max                              34.0                     9.384918e-02\n",
      "2\n",
      "       Engine Coolant Temperature(°C)  Turbo Boost & Vacuum Gauge(psi)\n",
      "count                             0.0                              0.0\n",
      "mean                              NaN                              NaN\n",
      "std                               NaN                              NaN\n",
      "min                               NaN                              NaN\n",
      "25%                               NaN                              NaN\n",
      "50%                               NaN                              NaN\n",
      "75%                               NaN                              NaN\n",
      "max                               NaN                              NaN\n",
      "3\n",
      "       Engine Coolant Temperature(°C)  Turbo Boost & Vacuum Gauge(psi)\n",
      "count                       26.000000                        26.000000\n",
      "mean                        25.000000                         0.093849\n",
      "std                         16.316862                         0.000000\n",
      "min                          9.000000                         0.093849\n",
      "25%                          9.000000                         0.093849\n",
      "50%                         25.000000                         0.093849\n",
      "75%                         41.000000                         0.093849\n",
      "max                         41.000000                         0.093849\n",
      "4\n",
      "       Engine Coolant Temperature(°C)  Turbo Boost & Vacuum Gauge(psi)\n",
      "count                             0.0                              0.0\n",
      "mean                              NaN                              NaN\n",
      "std                               NaN                              NaN\n",
      "min                               NaN                              NaN\n",
      "25%                               NaN                              NaN\n",
      "50%                               NaN                              NaN\n",
      "75%                               NaN                              NaN\n",
      "max                               NaN                              NaN\n",
      "5\n",
      "       Engine Coolant Temperature(°C)  Turbo Boost & Vacuum Gauge(psi)\n",
      "count                             0.0                              0.0\n",
      "mean                              NaN                              NaN\n",
      "std                               NaN                              NaN\n",
      "min                               NaN                              NaN\n",
      "25%                               NaN                              NaN\n",
      "50%                               NaN                              NaN\n",
      "75%                               NaN                              NaN\n",
      "max                               NaN                              NaN\n",
      "6\n",
      "       Engine Coolant Temperature(°C)  Turbo Boost & Vacuum Gauge(psi)\n",
      "count                      170.000000                     1.700000e+02\n",
      "mean                        14.358824                    -1.962262e-01\n",
      "std                         13.174099                     2.783757e-17\n",
      "min                          6.000000                    -1.962262e-01\n",
      "25%                          6.000000                    -1.962262e-01\n",
      "50%                          6.000000                    -1.962262e-01\n",
      "75%                         35.000000                    -1.962262e-01\n",
      "max                         35.000000                    -1.962262e-01\n",
      "7\n",
      "       Engine Coolant Temperature(°C)  Turbo Boost & Vacuum Gauge(psi)\n",
      "count                      766.000000                       766.000000\n",
      "mean                         3.036554                        -0.051188\n",
      "std                          0.187786                         0.000000\n",
      "min                          3.000000                        -0.051188\n",
      "25%                          3.000000                        -0.051188\n",
      "50%                          3.000000                        -0.051188\n",
      "75%                          3.000000                        -0.051188\n",
      "max                          4.000000                        -0.051188\n",
      "8\n",
      "       Engine Coolant Temperature(°C)  Turbo Boost & Vacuum Gauge(psi)\n",
      "count                            12.0                        12.000000\n",
      "mean                              4.0                        -0.051188\n",
      "std                               0.0                         0.000000\n",
      "min                               4.0                        -0.051188\n",
      "25%                               4.0                        -0.051188\n",
      "50%                               4.0                        -0.051188\n",
      "75%                               4.0                        -0.051188\n",
      "max                               4.0                        -0.051188\n",
      "9\n",
      "       Engine Coolant Temperature(°C)  Turbo Boost & Vacuum Gauge(psi)\n",
      "count                      202.000000                     2.020000e+02\n",
      "mean                        17.584158                    -5.118848e-02\n",
      "std                         15.261089                     6.956133e-18\n",
      "min                          5.000000                    -5.118848e-02\n",
      "25%                          5.000000                    -5.118848e-02\n",
      "50%                          5.000000                    -5.118848e-02\n",
      "75%                         36.000000                    -5.118848e-02\n",
      "max                         36.000000                    -5.118848e-02\n"
     ]
    }
   ],
   "metadata": {}
  },
  {
   "cell_type": "markdown",
   "source": [
    "## Fuel Rail Pressure"
   ],
   "metadata": {}
  },
  {
   "cell_type": "code",
   "execution_count": null,
   "source": [
    "plotValsMultDfsHasValue([fuelRailP], dfList)\n"
   ],
   "outputs": [],
   "metadata": {
    "scrolled": true
   }
  },
  {
   "cell_type": "markdown",
   "source": [
    "Difficult to find a pattern here.\n",
    "After some investigation, found that the FRP while RPM was at 0 might be consistent looking at this graph"
   ],
   "metadata": {}
  },
  {
   "cell_type": "code",
   "execution_count": null,
   "source": [
    "plotValsMultDfsHasValue([fuelRailP, rpm], [accord7])\n"
   ],
   "outputs": [],
   "metadata": {}
  },
  {
   "cell_type": "code",
   "execution_count": null,
   "source": [
    "printDescribes([fuelRailP, coolantTemp], dfList0Rpms)\n",
    "plotValsMultDfsHasValue([fuelRailP], dfList0Rpms)"
   ],
   "outputs": [],
   "metadata": {}
  },
  {
   "cell_type": "markdown",
   "source": [
    "Coolant temperature seems to be again the factor that throws off this, same as with turbo boost"
   ],
   "metadata": {}
  },
  {
   "cell_type": "code",
   "execution_count": null,
   "source": [
    "accord6.corr()"
   ],
   "outputs": [],
   "metadata": {}
  },
  {
   "cell_type": "markdown",
   "source": [
    "There are possible correlations here, between coolant temperature and each of Turbo Boost, Fuel Rail Pressure and Mass Air Flow rate"
   ],
   "metadata": {}
  },
  {
   "cell_type": "markdown",
   "source": [
    "## Volumetric Efficiency\n"
   ],
   "metadata": {}
  },
  {
   "cell_type": "code",
   "execution_count": null,
   "source": [
    "printDescribes(volEff, convertDfsColsToNums(dfList, volEff))"
   ],
   "outputs": [],
   "metadata": {}
  },
  {
   "cell_type": "code",
   "execution_count": null,
   "source": [
    "plotValsMultDfsHasValue([volEff, rpm], convertDfsColsToNums([accord1, accord2], volEff))"
   ],
   "outputs": [],
   "metadata": {}
  },
  {
   "cell_type": "code",
   "execution_count": null,
   "source": [
    "printDescribes(volEff, convertDfsColsToNums(dfList0Rpms, volEff))\n"
   ],
   "outputs": [],
   "metadata": {}
  },
  {
   "cell_type": "markdown",
   "source": [
    "Very finicky but could use. When RPM is 0 then value is 58 or 59, but was wrongly 0 once, so need to add that additional check. Often gives nan though, so am deciding not to use"
   ],
   "metadata": {}
  },
  {
   "cell_type": "markdown",
   "source": [
    "## Summary\n",
    "That is all the useful dynamic responses form the 08 Accord\n",
    "\n",
    "* RPM\n",
    "    * take once engine has heated up, past 25 or 30 degrees\n",
    "    * Take median after that assuming the engine is left idling\n",
    "    * The min dips occasionally so that cannot be taken, hence take the median instead\n",
    "    * Varies slightly from 819 to 821\n",
    "* EGR Percent\n",
    "    * Take while engine has not started, so RPM is at 0\n",
    "    * Looks to be a constant then\n",
    "    * take median or bottom quartile seems good when engine has been started, but can just filter out where rpm is not 0\n",
    "* Volumetric Efficiency\n",
    "    * Value was not captured sometimes\n",
    "    * When engine not started (RPM at 0) then seems stable, at 58 or 59\n",
    "    * Check to make sure the RPM is not \"-\" and is at 0\n",
    "    * in practice sometimes does not collect anything so is not reliable and decided not to use"
   ],
   "metadata": {}
  },
  {
   "cell_type": "markdown",
   "source": [
    "## Investigating more\n"
   ],
   "metadata": {}
  },
  {
   "cell_type": "code",
   "execution_count": null,
   "source": [],
   "outputs": [],
   "metadata": {}
  }
 ],
 "metadata": {
  "kernelspec": {
   "display_name": "Python 3 (ipykernel)",
   "language": "python",
   "name": "python3"
  },
  "language_info": {
   "codemirror_mode": {
    "name": "ipython",
    "version": 3
   },
   "file_extension": ".py",
   "mimetype": "text/x-python",
   "name": "python",
   "nbconvert_exporter": "python",
   "pygments_lexer": "ipython3",
   "version": "3.9.0"
  }
 },
 "nbformat": 4,
 "nbformat_minor": 5
}
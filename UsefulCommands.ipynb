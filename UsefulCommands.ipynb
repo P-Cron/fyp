{
 "cells": [
  {
   "cell_type": "code",
   "execution_count": 1,
   "id": "2e0cc119",
   "metadata": {},
   "outputs": [],
   "source": [
    "import pandas as pd\n",
    "from matplotlib import pyplot as plt\n",
    "\n",
    "from pandas.plotting import scatter_matrix\n",
    "\n",
    "\n",
    "df = pd.read_csv(\"torqueLogs\\\\trackLog-2022-Jan-16_17-42-53.csv\")\n",
    "df1 = df[['Device Time', '0903', 'Engine Coolant Temperature(°C)']].copy()\n",
    "jan16LogsPath = 'torqueLogs\\\\trackLog-2022-Jan-16_17-42-53.csv'\n",
    "jan23LogsPath = 'torqueLogs\\\\trackLog-2022-Jan-23_19-26-14.csv'\n",
    "jan27LogsPath = 'torqueLogs\\\\trackLog-2022-Jan-27_12-40-54.csv'\n",
    "jan29LogsPath = 'torqueLogs\\\\trackLog-2022-Jan-29_00-56-43_FIXED.csv'\n",
    "mar12LogsPath = 'torqueLogs\\\\trackLog-2022-Mar-12_17-27-39_Accord08.csv'\n",
    "\n",
    "df1 = pd.read_csv(jan16LogsPath)\n",
    "df2 = pd.read_csv(jan23LogsPath)\n",
    "df3 = pd.read_csv(jan27LogsPath)\n",
    "df4 = pd.read_csv(jan29LogsPath, on_bad_lines='skip') # this csv needs converting to integers to work\n",
    "df5 = pd.read_csv(mar12LogsPath, on_bad_lines='skip')"
   ]
  },
  {
   "cell_type": "code",
   "execution_count": 2,
   "id": "e0621177",
   "metadata": {},
   "outputs": [
    {
     "data": {
      "text/plain": [
       "count     101\n",
       "unique      4\n",
       "top       820\n",
       "freq       48\n",
       "Name: Engine RPM(rpm), dtype: object"
      ]
     },
     "execution_count": 2,
     "metadata": {},
     "output_type": "execute_result"
    }
   ],
   "source": [
    "# dfMess = df4[(df4[\"Engine RPM(rpm)\"] > 100)].copy()\n",
    "df4[(df4['Engine RPM(rpm)'] != '-')]['Engine RPM(rpm)'].describe()"
   ]
  },
  {
   "cell_type": "code",
   "execution_count": 3,
   "id": "14c517bb",
   "metadata": {},
   "outputs": [
    {
     "data": {
      "text/plain": [
       "0    821\n",
       "dtype: int64"
      ]
     },
     "execution_count": 3,
     "metadata": {},
     "output_type": "execute_result"
    }
   ],
   "source": [
    "df3['Engine RPM(rpm)'].mode()\n",
    "# get mode can do same for median"
   ]
  },
  {
   "cell_type": "code",
   "execution_count": 8,
   "id": "4e4c07e1",
   "metadata": {
    "scrolled": true
   },
   "outputs": [
    {
     "data": {
      "image/png": "[encoded data removed]",
      "text/plain": [
       "<Figure size 432x288 with 1 Axes>"
      ]
     },
     "metadata": {
      "needs_background": "light"
     },
     "output_type": "display_data"
    }
   ],
   "source": [
    "df3['Engine RPM(rpm)'].head(100).plot()\n",
    "df1['Engine RPM(rpm)'].head(100).plot()\n",
    "df2['Engine RPM(rpm)'].head(100).plot()\n",
    "# plotting multiple things on the same graph\n",
    "# using head to take just the first 100 entries\n",
    "plt.show()"
   ]
  }
 ],
 "metadata": {
  "kernelspec": {
   "display_name": "Python 3 (ipykernel)",
   "language": "python",
   "name": "python3"
  },
  "language_info": {
   "codemirror_mode": {
    "name": "ipython",
    "version": 3
   },
   "file_extension": ".py",
   "mimetype": "text/x-python",
   "name": "python",
   "nbconvert_exporter": "python",
   "pygments_lexer": "ipython3",
   "version": "3.9.0"
  }
 },
 "nbformat": 4,
 "nbformat_minor": 5
}

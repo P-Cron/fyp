{
 "cells": [
  {
   "cell_type": "code",
   "execution_count": 1,
   "metadata": {},
   "outputs": [],
   "source": [
    "import pandas as pd\n",
    "from matplotlib import pyplot as plt\n",
    "\n",
    "from pandas.plotting import scatter_matrix\n",
    "\n",
    "\n",
    "df = pd.read_csv(\"torqueLogs\\\\trackLog-2022-Jan-16_17-42-53.csv\")\n",
    "df1 = df[['Device Time', '0903', 'Engine Coolant Temperature(°C)']].copy()\n",
    "jan16LogsPath = 'torqueLogs\\\\trackLog-2022-Jan-16_17-42-53.csv'\n",
    "jan23LogsPath = 'torqueLogs\\\\trackLog-2022-Jan-23_19-26-14.csv'\n",
    "jan27LogsPath = 'torqueLogs\\\\trackLog-2022-Jan-27_12-40-54.csv'\n",
    "jan29LogsPath = 'torqueLogs\\\\trackLog-2022-Jan-29_00-56-43_FIXED.csv'\n",
    "mar12LogsPath = 'torqueLogs\\\\trackLog-2022-Mar-12_17-27-39_Accord08_FIXED.csv'\n",
    "mar13LogsPath = 'torqueLogs\\\\trackLog-2022-Mar-13_23-11-53_Accord08.csv'\n",
    "\n",
    "\n",
    "df1 = pd.read_csv(jan16LogsPath)\n",
    "df2 = pd.read_csv(jan23LogsPath)\n",
    "df3 = pd.read_csv(jan27LogsPath)\n",
    "df4 = pd.read_csv(jan29LogsPath, on_bad_lines='skip') # this csv seems to be corrupted\n",
    "df5 = pd.read_csv(mar12LogsPath, on_bad_lines='skip')\n",
    "df6 = pd.read_csv(mar13LogsPath)\n",
    "\n"
   ]
  },
  {
   "cell_type": "code",
   "execution_count": 2,
   "metadata": {},
   "outputs": [],
   "source": [
    "validColumns = ['Device Time', '0100', '011c obd standards vehicle conforms to', '0120', '0903', 'CO₂ in g/km (Average)(g/km)', 'Distance travelled with MIL/CEL lit(miles)', 'EGR Commanded(%)', 'Engine Coolant Temperature(°C)', 'Engine Load(%)', 'Engine RPM(rpm)', 'Fuel Rail Pressure(psi)', 'Intake Air Temperature(°C)', 'Intake Manifold Pressure(psi)', 'Mass Air Flow Rate(g/s)', 'pids supported 01-20', 'service 09 pids supported', 'Turbo Boost & Vacuum Gauge(psi)', 'Voltage (OBD Adapter)(V)', 'Volumetric Efficiency (Calculated)(%)']\n",
    "dynamicColumns = ['CO₂ in g/km (Average)(g/km)', 'Distance travelled with MIL/CEL lit(miles)', 'EGR Commanded(%)', 'Engine Coolant Temperature(°C)', 'Engine Load(%)', 'Engine RPM(rpm)', 'Fuel Rail Pressure(psi)', 'Intake Air Temperature(°C)', 'Intake Manifold Pressure(psi)', 'Mass Air Flow Rate(g/s)', 'Turbo Boost & Vacuum Gauge(psi)', 'Voltage (OBD Adapter)(V)', 'Volumetric Efficiency (Calculated)(%)']\n"
   ]
  },
  {
   "cell_type": "code",
   "execution_count": 12,
   "metadata": {},
   "outputs": [
    {
     "data": {
      "image/png": "[encoded data removed]",
      "text/plain": [
       "<Figure size 432x288 with 1 Axes>"
      ]
     },
     "metadata": {
      "needs_background": "light"
     },
     "output_type": "display_data"
    }
   ],
   "source": [
    "# df6['Engine RPM(rpm)'].plot()\n",
    "df6['shrankRPM'] = df6['Engine RPM(rpm)']/40\n",
    "df6['shrankRPM'].plot()\n",
    "df6['Engine Coolant Temperature(°C)'].plot()\n",
    "plt.show()"
   ]
  },
  {
   "cell_type": "code",
   "execution_count": 4,
   "metadata": {},
   "outputs": [
    {
     "data": {
      "text/plain": [
       "count    738.000000\n",
       "mean      20.669377\n",
       "std       10.546230\n",
       "min        6.000000\n",
       "25%       10.000000\n",
       "50%       20.500000\n",
       "75%       31.000000\n",
       "max       35.000000\n",
       "Name: Engine Coolant Temperature(°C), dtype: float64"
      ]
     },
     "execution_count": 4,
     "metadata": {},
     "output_type": "execute_result"
    }
   ],
   "source": [
    "df6['Engine Coolant Temperature(°C)'].describe()"
   ]
  },
  {
   "cell_type": "code",
   "execution_count": 5,
   "metadata": {},
   "outputs": [
    {
     "data": {
      "text/plain": [
       "count     738.000000\n",
       "mean      683.415989\n",
       "std       394.915028\n",
       "min         0.000000\n",
       "25%       805.000000\n",
       "50%       820.000000\n",
       "75%       837.000000\n",
       "max      1393.000000\n",
       "Name: Engine RPM(rpm), dtype: float64"
      ]
     },
     "execution_count": 5,
     "metadata": {},
     "output_type": "execute_result"
    }
   ],
   "source": [
    "df6['Engine RPM(rpm)'].describe()"
   ]
  },
  {
   "cell_type": "code",
   "execution_count": 6,
   "metadata": {},
   "outputs": [
    {
     "name": "stdout",
     "output_type": "stream",
     "text": [
      "count     42.000000\n",
      "mean     716.214286\n",
      "std      297.306899\n",
      "min        0.000000\n",
      "25%      819.000000\n",
      "50%      820.000000\n",
      "75%      827.000000\n",
      "max      935.000000\n",
      "Name: Engine RPM(rpm), dtype: float64\n",
      "count     764.000000\n",
      "mean     1513.756545\n",
      "std       407.518647\n",
      "min       771.000000\n",
      "25%      1281.000000\n",
      "50%      1555.000000\n",
      "75%      1841.500000\n",
      "max      2403.000000\n",
      "Name: Engine RPM(rpm), dtype: float64\n",
      "count     318.000000\n",
      "mean      801.481132\n",
      "std       277.023199\n",
      "min         0.000000\n",
      "25%       812.750000\n",
      "50%       821.000000\n",
      "75%       847.000000\n",
      "max      1504.000000\n",
      "Name: Engine RPM(rpm), dtype: float64\n",
      "count     150\n",
      "unique      5\n",
      "top         -\n",
      "freq       49\n",
      "Name: Engine RPM(rpm), dtype: object\n",
      "count    147.000000\n",
      "mean     820.102041\n",
      "std        1.961041\n",
      "min      815.000000\n",
      "25%      819.000000\n",
      "50%      821.000000\n",
      "75%      821.000000\n",
      "max      823.000000\n",
      "Name: Engine RPM(rpm), dtype: float64\n",
      "count     738.000000\n",
      "mean      683.415989\n",
      "std       394.915028\n",
      "min         0.000000\n",
      "25%       805.000000\n",
      "50%       820.000000\n",
      "75%       837.000000\n",
      "max      1393.000000\n",
      "Name: Engine RPM(rpm), dtype: float64\n"
     ]
    }
   ],
   "source": [
    "for df in [df1, df2, df3, df4, df5, df6]:\n",
    "    print(df['Engine RPM(rpm)'].describe())\n",
    "    # median is basically always 820\n",
    "    # once finished idling"
   ]
  }
 ],
 "metadata": {
  "kernelspec": {
   "display_name": "Python 3 (ipykernel)",
   "language": "python",
   "name": "python3"
  },
  "language_info": {
   "codemirror_mode": {
    "name": "ipython",
    "version": 3
   },
   "file_extension": ".py",
   "mimetype": "text/x-python",
   "name": "python",
   "nbconvert_exporter": "python",
   "pygments_lexer": "ipython3",
   "version": "3.9.0"
  }
 },
 "nbformat": 4,
 "nbformat_minor": 4
}
